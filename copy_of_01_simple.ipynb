{
  "nbformat": 4,
  "nbformat_minor": 0,
  "metadata": {
    "colab": {
      "provenance": [],
      "include_colab_link": true
    },
    "kernelspec": {
      "name": "python3",
      "display_name": "Python 3"
    }
  },
  "cells": [
    {
      "cell_type": "markdown",
      "metadata": {
        "id": "view-in-github",
        "colab_type": "text"
      },
      "source": [
        "<a href=\"https://colab.research.google.com/github/poojavvs/c-practice/blob/main/copy_of_01_simple.ipynb\" target=\"_parent\"><img src=\"https://colab.research.google.com/assets/colab-badge.svg\" alt=\"Open In Colab\"/></a>"
      ]
    },
    {
      "cell_type": "code",
      "metadata": {
        "id": "6kfdjeSwTN2p",
        "outputId": "328c1696-923a-42c3-a82e-a5cf3eaf1302",
        "colab": {
          "base_uri": "https://localhost:8080/"
        }
      },
      "source": [
        "%%writefile prog.c\n",
        "\n",
        "#include<stdio.h>\n",
        "\n",
        "int main(void)\n",
        "{\n",
        "    printf(\"Hello World!~~~\");\n",
        "\n",
        "    return 0;  // 정상 완료\n",
        "}"
      ],
      "execution_count": null,
      "outputs": [
        {
          "output_type": "stream",
          "name": "stdout",
          "text": [
            "Overwriting prog.c\n"
          ]
        }
      ]
    },
    {
      "cell_type": "code",
      "metadata": {
        "id": "I1QFktLNUGD1",
        "outputId": "90423a6b-536d-493a-aa0b-8ac5c17d43a6",
        "colab": {
          "base_uri": "https://localhost:8080/"
        }
      },
      "source": [
        "!ls"
      ],
      "execution_count": null,
      "outputs": [
        {
          "output_type": "stream",
          "name": "stdout",
          "text": [
            "hello  prog.c  sample_data\n"
          ]
        }
      ]
    },
    {
      "cell_type": "code",
      "metadata": {
        "id": "eKihNbD_UHYB",
        "outputId": "480bae6b-e11a-4c0a-8993-54367e911118",
        "colab": {
          "base_uri": "https://localhost:8080/"
        }
      },
      "source": [
        "!gcc --version"
      ],
      "execution_count": null,
      "outputs": [
        {
          "output_type": "stream",
          "name": "stdout",
          "text": [
            "gcc (Ubuntu 11.4.0-1ubuntu1~22.04) 11.4.0\n",
            "Copyright (C) 2021 Free Software Foundation, Inc.\n",
            "This is free software; see the source for copying conditions.  There is NO\n",
            "warranty; not even for MERCHANTABILITY or FITNESS FOR A PARTICULAR PURPOSE.\n",
            "\n"
          ]
        }
      ]
    },
    {
      "cell_type": "code",
      "metadata": {
        "id": "OT9t0yXdUNzI"
      },
      "source": [
        "!gcc -o hello prog.c"
      ],
      "execution_count": null,
      "outputs": []
    },
    {
      "cell_type": "code",
      "metadata": {
        "id": "0uoBCc8UUXyn",
        "outputId": "b7feeed4-3f41-4140-bddf-4eb710905e03",
        "colab": {
          "base_uri": "https://localhost:8080/"
        }
      },
      "source": [
        "!./hello"
      ],
      "execution_count": null,
      "outputs": [
        {
          "output_type": "stream",
          "name": "stdout",
          "text": [
            "Hello World!~~~"
          ]
        }
      ]
    },
    {
      "cell_type": "markdown",
      "source": [
        "**2simple** **interest**"
      ],
      "metadata": {
        "id": "64bRFKtda19o"
      }
    },
    {
      "cell_type": "code",
      "source": [
        "%%writefile prog.c\n",
        "\n",
        "#include<stdio.h>\n",
        "int main()\n",
        "{\n",
        "  int p,n;\n",
        "  float r,si;\n",
        "  p=1000;\n",
        "  n=3;\n",
        "  r=8.5;\n",
        "  si=p*n*r/100;\n",
        "  printf(\"simple interest=%f\",si);\n",
        "}"
      ],
      "metadata": {
        "id": "6miUDTIWbANF",
        "outputId": "5ea89bb1-25d6-4c5c-d141-a1d40286af88",
        "colab": {
          "base_uri": "https://localhost:8080/"
        }
      },
      "execution_count": null,
      "outputs": [
        {
          "output_type": "stream",
          "name": "stdout",
          "text": [
            "Overwriting prog.c\n"
          ]
        }
      ]
    },
    {
      "cell_type": "code",
      "source": [
        "!ls"
      ],
      "metadata": {
        "id": "ejhe5KQKdkBz",
        "outputId": "f4280cd6-36b6-40f1-d2d7-213ce9868953",
        "colab": {
          "base_uri": "https://localhost:8080/"
        }
      },
      "execution_count": null,
      "outputs": [
        {
          "output_type": "stream",
          "name": "stdout",
          "text": [
            "hello  prog.c  sample_data  si\n"
          ]
        }
      ]
    },
    {
      "cell_type": "code",
      "source": [
        "!gcc --version"
      ],
      "metadata": {
        "id": "cTEAl1Doet5g",
        "outputId": "b4e66926-9cd9-4bda-8742-e071198b77f4",
        "colab": {
          "base_uri": "https://localhost:8080/"
        }
      },
      "execution_count": null,
      "outputs": [
        {
          "output_type": "stream",
          "name": "stdout",
          "text": [
            "gcc (Ubuntu 11.4.0-1ubuntu1~22.04) 11.4.0\n",
            "Copyright (C) 2021 Free Software Foundation, Inc.\n",
            "This is free software; see the source for copying conditions.  There is NO\n",
            "warranty; not even for MERCHANTABILITY or FITNESS FOR A PARTICULAR PURPOSE.\n",
            "\n"
          ]
        }
      ]
    },
    {
      "cell_type": "code",
      "source": [
        "!gcc -o si prog.c"
      ],
      "metadata": {
        "id": "h96FOgw6fIbs"
      },
      "execution_count": null,
      "outputs": []
    },
    {
      "cell_type": "code",
      "source": [
        "!./si"
      ],
      "metadata": {
        "id": "JxpED7d1fuCB",
        "outputId": "f7a74ca2-1e73-4c47-dcb2-0f44ec625a4f",
        "colab": {
          "base_uri": "https://localhost:8080/"
        }
      },
      "execution_count": null,
      "outputs": [
        {
          "output_type": "stream",
          "name": "stdout",
          "text": [
            "simple interest=255.000000"
          ]
        }
      ]
    },
    {
      "cell_type": "markdown",
      "source": [
        "**3simple** **interest2**"
      ],
      "metadata": {
        "id": "QVO5mj-mgVel"
      }
    },
    {
      "cell_type": "code",
      "source": [
        "%%writefile prog.c\n",
        "\n",
        "#include<stdio.h>\n",
        "int main()\n",
        "{\n",
        "  int p,n;\n",
        "  float r,si;\n",
        "  printf(\"enter values of p,n,r\");\n",
        "  scanf(\"%d%d%f\",&p,&n,&r);\n",
        "  si=p*n*r/100;\n",
        "  printf(\"%f\",si);\n",
        "}"
      ],
      "metadata": {
        "id": "cf3ThX0zgh05",
        "outputId": "bd754a9c-19ad-46e3-c561-7f7ebde8ff6c",
        "colab": {
          "base_uri": "https://localhost:8080/"
        }
      },
      "execution_count": null,
      "outputs": [
        {
          "output_type": "stream",
          "name": "stdout",
          "text": [
            "Overwriting prog.c\n"
          ]
        }
      ]
    },
    {
      "cell_type": "code",
      "source": [
        "!ls"
      ],
      "metadata": {
        "id": "_PNLMS9uhbvx",
        "outputId": "4a477c78-1705-4641-81a6-1e1ea482af12",
        "colab": {
          "base_uri": "https://localhost:8080/"
        }
      },
      "execution_count": null,
      "outputs": [
        {
          "output_type": "stream",
          "name": "stdout",
          "text": [
            "a.out  prog.c  sample_data\n"
          ]
        }
      ]
    },
    {
      "cell_type": "code",
      "source": [
        "!gcc  prog.c"
      ],
      "metadata": {
        "id": "agDfRq_FiR2a"
      },
      "execution_count": null,
      "outputs": []
    },
    {
      "cell_type": "code",
      "source": [
        "!./a.out"
      ],
      "metadata": {
        "id": "gidPtO6Li2YW",
        "outputId": "cf00142e-44ca-4eda-b7b6-f280edd5cd8a",
        "colab": {
          "base_uri": "https://localhost:8080/"
        }
      },
      "execution_count": null,
      "outputs": [
        {
          "output_type": "stream",
          "name": "stdout",
          "text": [
            "enter values of p,n,r^C\n"
          ]
        }
      ]
    },
    {
      "cell_type": "markdown",
      "source": [
        "//4**sum** of the five digit number"
      ],
      "metadata": {
        "id": "iGR2Hy4EpkYj"
      }
    },
    {
      "cell_type": "code",
      "source": [
        "%%writefile prog.c\n",
        "#include<stdio.h>\n",
        "int main()\n",
        "{\n",
        "  int num,n,a;\n",
        "  float sum=0;\n",
        "  printf(\"enter the five digit number\\n:\");\n",
        "  scanf(\"%d\",&num);\n",
        "  a=num%10;\n",
        "  n=num/10;\n",
        "  sum=sum+a;\n",
        "  a=num%10;\n",
        "  n=num/10;\n",
        "  sum=sum+a;\n",
        "  a=num%10;\n",
        "  n=num/10;\n",
        "  sum=sum+a;\n",
        "  a=num%10;\n",
        "  n=num/10;\n",
        "  sum=sum+a;\n",
        "  a=num%10;\n",
        "  sum=sum+a;\n",
        "  printf(\"sum of five digit number is=%d is %f\\n\",num,sum);\n",
        "}"
      ],
      "metadata": {
        "colab": {
          "base_uri": "https://localhost:8080/"
        },
        "id": "nvDVlnXlqKle",
        "outputId": "378a863e-bf8d-415f-a3ac-2bcbca486581"
      },
      "execution_count": null,
      "outputs": [
        {
          "output_type": "stream",
          "name": "stdout",
          "text": [
            "Overwriting prog.c\n"
          ]
        }
      ]
    },
    {
      "cell_type": "code",
      "source": [
        "!ls"
      ],
      "metadata": {
        "colab": {
          "base_uri": "https://localhost:8080/"
        },
        "id": "4gySIWu-rgPy",
        "outputId": "d1b9582f-9ccb-43c6-8898-230eaac780c8"
      },
      "execution_count": null,
      "outputs": [
        {
          "output_type": "stream",
          "name": "stdout",
          "text": [
            "prog.c\tsample_data\n"
          ]
        }
      ]
    },
    {
      "cell_type": "code",
      "source": [
        "!gcc --version"
      ],
      "metadata": {
        "colab": {
          "base_uri": "https://localhost:8080/"
        },
        "id": "ILfH0mfxrkDt",
        "outputId": "f201f96b-5126-4dac-eb57-2d50f32e2ba3"
      },
      "execution_count": null,
      "outputs": [
        {
          "output_type": "stream",
          "name": "stdout",
          "text": [
            "gcc (Ubuntu 11.4.0-1ubuntu1~22.04) 11.4.0\n",
            "Copyright (C) 2021 Free Software Foundation, Inc.\n",
            "This is free software; see the source for copying conditions.  There is NO\n",
            "warranty; not even for MERCHANTABILITY or FITNESS FOR A PARTICULAR PURPOSE.\n",
            "\n"
          ]
        }
      ]
    },
    {
      "cell_type": "code",
      "source": [
        "!gcc -o sum prog.c"
      ],
      "metadata": {
        "id": "7zDCFkfxrpYC"
      },
      "execution_count": null,
      "outputs": []
    },
    {
      "cell_type": "code",
      "source": [
        "!./sum"
      ],
      "metadata": {
        "colab": {
          "base_uri": "https://localhost:8080/"
        },
        "id": "MsSJT5dMsXS-",
        "outputId": "916af613-d2c4-4b7d-f0f8-c6662d9521e7"
      },
      "execution_count": null,
      "outputs": [
        {
          "output_type": "stream",
          "name": "stdout",
          "text": [
            "enter the five digit number\n",
            ":"
          ]
        }
      ]
    }
  ]
}