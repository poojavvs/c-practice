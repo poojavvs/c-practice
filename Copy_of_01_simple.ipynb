{
  "nbformat": 4,
  "nbformat_minor": 0,
  "metadata": {
    "colab": {
      "provenance": [],
      "include_colab_link": true
    },
    "kernelspec": {
      "name": "python3",
      "display_name": "Python 3"
    }
  },
  "cells": [
    {
      "cell_type": "markdown",
      "metadata": {
        "id": "view-in-github",
        "colab_type": "text"
      },
      "source": [
        "<a href=\"https://colab.research.google.com/github/poojavvs/c-practice/blob/main/Copy_of_01_simple.ipynb\" target=\"_parent\"><img src=\"https://colab.research.google.com/assets/colab-badge.svg\" alt=\"Open In Colab\"/></a>"
      ]
    },
    {
      "cell_type": "code",
      "metadata": {
        "id": "6kfdjeSwTN2p",
        "outputId": "328c1696-923a-42c3-a82e-a5cf3eaf1302",
        "colab": {
          "base_uri": "https://localhost:8080/"
        }
      },
      "source": [
        "%%writefile prog.c\n",
        "\n",
        "#include<stdio.h>\n",
        "\n",
        "int main(void)\n",
        "{\n",
        "    printf(\"Hello World!~~~\");\n",
        "\n",
        "    return 0;  // 정상 완료\n",
        "}"
      ],
      "execution_count": null,
      "outputs": [
        {
          "output_type": "stream",
          "name": "stdout",
          "text": [
            "Overwriting prog.c\n"
          ]
        }
      ]
    },
    {
      "cell_type": "code",
      "metadata": {
        "id": "I1QFktLNUGD1",
        "outputId": "90423a6b-536d-493a-aa0b-8ac5c17d43a6",
        "colab": {
          "base_uri": "https://localhost:8080/"
        }
      },
      "source": [
        "!ls"
      ],
      "execution_count": null,
      "outputs": [
        {
          "output_type": "stream",
          "name": "stdout",
          "text": [
            "hello  prog.c  sample_data\n"
          ]
        }
      ]
    },
    {
      "cell_type": "code",
      "metadata": {
        "id": "eKihNbD_UHYB",
        "outputId": "480bae6b-e11a-4c0a-8993-54367e911118",
        "colab": {
          "base_uri": "https://localhost:8080/"
        }
      },
      "source": [
        "!gcc --version"
      ],
      "execution_count": null,
      "outputs": [
        {
          "output_type": "stream",
          "name": "stdout",
          "text": [
            "gcc (Ubuntu 11.4.0-1ubuntu1~22.04) 11.4.0\n",
            "Copyright (C) 2021 Free Software Foundation, Inc.\n",
            "This is free software; see the source for copying conditions.  There is NO\n",
            "warranty; not even for MERCHANTABILITY or FITNESS FOR A PARTICULAR PURPOSE.\n",
            "\n"
          ]
        }
      ]
    },
    {
      "cell_type": "code",
      "metadata": {
        "id": "OT9t0yXdUNzI"
      },
      "source": [
        "!gcc -o hello prog.c"
      ],
      "execution_count": null,
      "outputs": []
    },
    {
      "cell_type": "code",
      "metadata": {
        "id": "0uoBCc8UUXyn",
        "outputId": "b7feeed4-3f41-4140-bddf-4eb710905e03",
        "colab": {
          "base_uri": "https://localhost:8080/"
        }
      },
      "source": [
        "!./hello"
      ],
      "execution_count": null,
      "outputs": [
        {
          "output_type": "stream",
          "name": "stdout",
          "text": [
            "Hello World!~~~"
          ]
        }
      ]
    },
    {
      "cell_type": "markdown",
      "source": [
        "**2simple** **interest**"
      ],
      "metadata": {
        "id": "64bRFKtda19o"
      }
    },
    {
      "cell_type": "code",
      "source": [
        "%%writefile prog.c\n",
        "\n",
        "#include<stdio.h>\n",
        "int main()\n",
        "{\n",
        "  int p,n;\n",
        "  float r,si;\n",
        "  p=1000;\n",
        "  n=3;\n",
        "  r=8.5;\n",
        "  si=p*n*r/100;\n",
        "  printf(\"simple interest=%f\",si);\n",
        "}"
      ],
      "metadata": {
        "id": "6miUDTIWbANF",
        "outputId": "5ea89bb1-25d6-4c5c-d141-a1d40286af88",
        "colab": {
          "base_uri": "https://localhost:8080/"
        }
      },
      "execution_count": null,
      "outputs": [
        {
          "output_type": "stream",
          "name": "stdout",
          "text": [
            "Overwriting prog.c\n"
          ]
        }
      ]
    },
    {
      "cell_type": "code",
      "source": [
        "!ls"
      ],
      "metadata": {
        "id": "ejhe5KQKdkBz",
        "outputId": "f4280cd6-36b6-40f1-d2d7-213ce9868953",
        "colab": {
          "base_uri": "https://localhost:8080/"
        }
      },
      "execution_count": null,
      "outputs": [
        {
          "output_type": "stream",
          "name": "stdout",
          "text": [
            "hello  prog.c  sample_data  si\n"
          ]
        }
      ]
    },
    {
      "cell_type": "code",
      "source": [
        "!gcc --version"
      ],
      "metadata": {
        "id": "cTEAl1Doet5g",
        "outputId": "b4e66926-9cd9-4bda-8742-e071198b77f4",
        "colab": {
          "base_uri": "https://localhost:8080/"
        }
      },
      "execution_count": null,
      "outputs": [
        {
          "output_type": "stream",
          "name": "stdout",
          "text": [
            "gcc (Ubuntu 11.4.0-1ubuntu1~22.04) 11.4.0\n",
            "Copyright (C) 2021 Free Software Foundation, Inc.\n",
            "This is free software; see the source for copying conditions.  There is NO\n",
            "warranty; not even for MERCHANTABILITY or FITNESS FOR A PARTICULAR PURPOSE.\n",
            "\n"
          ]
        }
      ]
    },
    {
      "cell_type": "code",
      "source": [
        "!gcc -o si prog.c"
      ],
      "metadata": {
        "id": "h96FOgw6fIbs"
      },
      "execution_count": null,
      "outputs": []
    },
    {
      "cell_type": "code",
      "source": [
        "!./si"
      ],
      "metadata": {
        "id": "JxpED7d1fuCB",
        "outputId": "f7a74ca2-1e73-4c47-dcb2-0f44ec625a4f",
        "colab": {
          "base_uri": "https://localhost:8080/"
        }
      },
      "execution_count": null,
      "outputs": [
        {
          "output_type": "stream",
          "name": "stdout",
          "text": [
            "simple interest=255.000000"
          ]
        }
      ]
    },
    {
      "cell_type": "markdown",
      "source": [
        "**3simple** **interest2**"
      ],
      "metadata": {
        "id": "QVO5mj-mgVel"
      }
    },
    {
      "cell_type": "code",
      "source": [
        "%%writefile prog.c\n",
        "\n",
        "#include<stdio.h>\n",
        "int main()\n",
        "{\n",
        "  int p,n;\n",
        "  float r,si;\n",
        "  printf(\"enter values of p,n,r\");\n",
        "  scanf(\"%d%d%f\",&p,&n,&r);\n",
        "  si=p*n*r/100;\n",
        "  printf(\"%f\",si);\n",
        "}"
      ],
      "metadata": {
        "id": "cf3ThX0zgh05",
        "outputId": "bd754a9c-19ad-46e3-c561-7f7ebde8ff6c",
        "colab": {
          "base_uri": "https://localhost:8080/"
        }
      },
      "execution_count": 25,
      "outputs": [
        {
          "output_type": "stream",
          "name": "stdout",
          "text": [
            "Overwriting prog.c\n"
          ]
        }
      ]
    },
    {
      "cell_type": "code",
      "source": [
        "!ls"
      ],
      "metadata": {
        "id": "_PNLMS9uhbvx",
        "outputId": "4a477c78-1705-4641-81a6-1e1ea482af12",
        "colab": {
          "base_uri": "https://localhost:8080/"
        }
      },
      "execution_count": 26,
      "outputs": [
        {
          "output_type": "stream",
          "name": "stdout",
          "text": [
            "a.out  prog.c  sample_data\n"
          ]
        }
      ]
    },
    {
      "cell_type": "code",
      "source": [
        "!gcc  prog.c"
      ],
      "metadata": {
        "id": "agDfRq_FiR2a"
      },
      "execution_count": 27,
      "outputs": []
    },
    {
      "cell_type": "code",
      "source": [
        "!./a.out"
      ],
      "metadata": {
        "id": "gidPtO6Li2YW",
        "outputId": "cf00142e-44ca-4eda-b7b6-f280edd5cd8a",
        "colab": {
          "base_uri": "https://localhost:8080/"
        }
      },
      "execution_count": 29,
      "outputs": [
        {
          "output_type": "stream",
          "name": "stdout",
          "text": [
            "enter values of p,n,r^C\n"
          ]
        }
      ]
    },
    {
      "cell_type": "markdown",
      "source": [
        "4.Finding the area of circle,cirumference of circle area of rectaangle,perimetere of rectangle"
      ],
      "metadata": {
        "id": "f8haKlKYlIeE"
      }
    },
    {
      "cell_type": "code",
      "source": [
        "%%writefile prog.c\n",
        "#include<stdio.h>\n",
        "int main()\n",
        "{\n",
        "  int r,l,b;\n",
        "  float ar,pr,ac,cf;\n",
        "  printf(\"enter the length and bredth of rectangle:\\n\");\n",
        "  scanf(\"%d%d\",&l&b);\n",
        "  printf(\"enter the radius:\\n\");\n",
        "  scanf(\"%d\",&r);\n",
        "  ar=l*b;\n",
        "  pr=2*(l+b);\n",
        "  ac=3.14*r*r;\n",
        "  cf=2*3.14*r;\n",
        "  printf(\"area of rec=%f\\n\");\n",
        "  printf(\"pr of rec=%f\\n\");\n",
        "}"
      ],
      "metadata": {
        "id": "n81x1MLQ5q5e",
        "outputId": "9be64247-1bf6-49c5-cd1e-cb374aaba1c3",
        "colab": {
          "base_uri": "https://localhost:8080/"
        }
      },
      "execution_count": 71,
      "outputs": [
        {
          "output_type": "stream",
          "name": "stdout",
          "text": [
            "Overwriting prog.c\n"
          ]
        }
      ]
    },
    {
      "cell_type": "code",
      "source": [
        "!ls"
      ],
      "metadata": {
        "id": "Eo3Iun4V7fHU",
        "outputId": "29924313-bdd0-4e9e-b519-64a6d8dbbbe6",
        "colab": {
          "base_uri": "https://localhost:8080/"
        }
      },
      "execution_count": 72,
      "outputs": [
        {
          "output_type": "stream",
          "name": "stdout",
          "text": [
            "a.out  prog.c  sample_data\n"
          ]
        }
      ]
    },
    {
      "cell_type": "code",
      "source": [
        "!gcc --version"
      ],
      "metadata": {
        "id": "Fi6Q07Wu7koN",
        "outputId": "3a8edfdf-28af-44ed-afad-296d4bc2328b",
        "colab": {
          "base_uri": "https://localhost:8080/"
        }
      },
      "execution_count": 73,
      "outputs": [
        {
          "output_type": "stream",
          "name": "stdout",
          "text": [
            "gcc (Ubuntu 11.4.0-1ubuntu1~22.04) 11.4.0\n",
            "Copyright (C) 2021 Free Software Foundation, Inc.\n",
            "This is free software; see the source for copying conditions.  There is NO\n",
            "warranty; not even for MERCHANTABILITY or FITNESS FOR A PARTICULAR PURPOSE.\n",
            "\n"
          ]
        }
      ]
    },
    {
      "cell_type": "code",
      "source": [
        "!gcc prog.c"
      ],
      "metadata": {
        "id": "AYMdRXD470Mo",
        "outputId": "cbbbe2db-e42e-4d53-f609-f6b260140c28",
        "colab": {
          "base_uri": "https://localhost:8080/"
        }
      },
      "execution_count": 76,
      "outputs": [
        {
          "output_type": "stream",
          "name": "stdout",
          "text": [
            "\u001b[01m\u001b[Kprog.c:\u001b[m\u001b[K In function ‘\u001b[01m\u001b[Kmain\u001b[m\u001b[K’:\n",
            "\u001b[01m\u001b[Kprog.c:7:18:\u001b[m\u001b[K \u001b[01;31m\u001b[Kerror: \u001b[m\u001b[Kinvalid operands to binary & (have ‘\u001b[01m\u001b[Kint *\u001b[m\u001b[K’ and ‘\u001b[01m\u001b[Kint\u001b[m\u001b[K’)\n",
            "    7 |   scanf(\"%d%d\",\u001b[32m\u001b[K&l\u001b[m\u001b[K\u001b[01;31m\u001b[K&\u001b[m\u001b[Kb);\n",
            "      |                \u001b[32m\u001b[K~~\u001b[m\u001b[K\u001b[01;31m\u001b[K^\u001b[m\u001b[K\n",
            "      |                \u001b[32m\u001b[K|\u001b[m\u001b[K\n",
            "      |                \u001b[32m\u001b[Kint *\u001b[m\u001b[K\n",
            "\u001b[01m\u001b[Kprog.c:14:24:\u001b[m\u001b[K \u001b[01;35m\u001b[Kwarning: \u001b[m\u001b[Kformat ‘\u001b[01m\u001b[K%f\u001b[m\u001b[K’ expects a matching ‘\u001b[01m\u001b[Kdouble\u001b[m\u001b[K’ argument [\u001b[01;35m\u001b[K\u001b]8;;https://gcc.gnu.org/onlinedocs/gcc/Warning-Options.html#index-Wformat=\u0007-Wformat=\u001b]8;;\u0007\u001b[m\u001b[K]\n",
            "   14 |   printf(\"area of rec=\u001b[01;35m\u001b[K%f\u001b[m\u001b[K\\n\");\n",
            "      |                       \u001b[01;35m\u001b[K~^\u001b[m\u001b[K\n",
            "      |                        \u001b[01;35m\u001b[K|\u001b[m\u001b[K\n",
            "      |                        \u001b[01;35m\u001b[Kdouble\u001b[m\u001b[K\n",
            "\u001b[01m\u001b[Kprog.c:15:22:\u001b[m\u001b[K \u001b[01;35m\u001b[Kwarning: \u001b[m\u001b[Kformat ‘\u001b[01m\u001b[K%f\u001b[m\u001b[K’ expects a matching ‘\u001b[01m\u001b[Kdouble\u001b[m\u001b[K’ argument [\u001b[01;35m\u001b[K\u001b]8;;https://gcc.gnu.org/onlinedocs/gcc/Warning-Options.html#index-Wformat=\u0007-Wformat=\u001b]8;;\u0007\u001b[m\u001b[K]\n",
            "   15 |   printf(\"pr of rec=\u001b[01;35m\u001b[K%f\u001b[m\u001b[K\\n\");\n",
            "      |                     \u001b[01;35m\u001b[K~^\u001b[m\u001b[K\n",
            "      |                      \u001b[01;35m\u001b[K|\u001b[m\u001b[K\n",
            "      |                      \u001b[01;35m\u001b[Kdouble\u001b[m\u001b[K\n"
          ]
        }
      ]
    }
  ]
}